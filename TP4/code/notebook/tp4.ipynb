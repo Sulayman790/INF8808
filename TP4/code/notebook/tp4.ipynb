{
 "cells": [
  {
   "cell_type": "markdown",
   "metadata": {},
   "source": [
    "# TP4 | INF8808\n",
    "\n",
    "In this notebook, we will start by creating a simple app to help explore our data. This step is important in conceiving data visualizations. It helps to determine which type of data visualization is appropriate for our data set, as well as which features we'd like to include. \n",
    "\n",
    "In the rest of this notebook, you will have to complete some cells to prepare for the implementation of an animated bubble chart in the next steps. \n",
    "\n",
    "To begin, take a look at the following cells, where we complete the necessary imports and load the data.\n",
    "\n"
   ]
  },
  {
   "cell_type": "code",
   "execution_count": null,
   "metadata": {},
   "outputs": [],
   "source": [
    "import pandas as pd\n",
    "import json"
   ]
  },
  {
   "cell_type": "code",
   "execution_count": null,
   "metadata": {},
   "outputs": [],
   "source": [
    "with open('../src/assets/data/countriesData.json') as data_file:    \n",
    "    data = json.load(data_file)  \n",
    "\n",
    "df_2000 = pd.json_normalize(data, '2000')\n",
    "df_2015 = pd.json_normalize(data, '2015')"
   ]
  },
  {
   "cell_type": "code",
   "execution_count": null,
   "metadata": {},
   "outputs": [],
   "source": [
    "from jupyter_dash import JupyterDash\n",
    "import dash\n",
    "import dash_html_components as html\n",
    "import dash_core_components as dcc\n",
    "\n",
    "import plotly.express as px"
   ]
  },
  {
   "cell_type": "code",
   "execution_count": null,
   "metadata": {},
   "outputs": [],
   "source": [
    "external_stylesheets=['https://codepen.io/chriddyp/pen/bWLwgP.css']"
   ]
  },
  {
   "cell_type": "code",
   "execution_count": null,
   "metadata": {},
   "outputs": [],
   "source": [
    "app = JupyterDash(__name__, external_stylesheets=external_stylesheets)"
   ]
  },
  {
   "cell_type": "code",
   "execution_count": null,
   "metadata": {},
   "outputs": [],
   "source": [
    "df_2000"
   ]
  },
  {
   "cell_type": "code",
   "execution_count": null,
   "metadata": {},
   "outputs": [],
   "source": [
    "df_2015"
   ]
  },
  {
   "cell_type": "markdown",
   "metadata": {},
   "source": [
    "# Question 1 \n",
    "\n",
    "You notice that the tables `df_2000` and `df_2015` have columns `GDP` and `CO2`, which you wish to include in your visualization. \n",
    "\n",
    "These columns contain numbers with many decimal places, but you are only planning on displaying numbers up to two decimal places in your visualization. \n",
    "\n",
    "Round the numbers in these dataframes so they only contain numbers up to two decimal places."
   ]
  },
  {
   "cell_type": "code",
   "execution_count": null,
   "metadata": {},
   "outputs": [],
   "source": [
    "# TODO : Round the values"
   ]
  },
  {
   "cell_type": "code",
   "execution_count": null,
   "metadata": {},
   "outputs": [],
   "source": [
    "# Use this cell to check your answer\n",
    "df_2000"
   ]
  },
  {
   "cell_type": "code",
   "execution_count": null,
   "metadata": {},
   "outputs": [],
   "source": [
    "# Use this cell to check your answer\n",
    "df_2015"
   ]
  },
  {
   "cell_type": "markdown",
   "metadata": {},
   "source": [
    "# Question 2\n",
    "\n",
    "Given the data you have, you decide to create a simple scatter plot for each dataframe.\n",
    "\n",
    "In the next cells, fill the functions to accomplish this task. \n",
    "\n",
    "### 2.1\n",
    "\n",
    "First, fill the `get_scatter` function, which returns a scatter plot figure for the given data frame. Its x axis is GDP and its y axis is CO2. Its `hover_name` property is represented by the country name. The title of the scatter plot is passed as argument. The axes should be represented as linearly scaled.\n",
    "\n",
    "### 2.2\n",
    "\n",
    "Second, fill the `get_range` function, which will help to more easily compare the two scatter plots. We want both scatter plots to have the same range for their x and y axes, and to be able to see all the points in each scatter plot. Thus, for the given column, the function should return an array containing the minimum and maximum across the two dataframes. \n",
    "\n"
   ]
  },
  {
   "cell_type": "code",
   "execution_count": null,
   "metadata": {},
   "outputs": [],
   "source": [
    "def get_scatter(df, title):\n",
    "    # TODO : Construct the scatter plot\n",
    "    pass"
   ]
  },
  {
   "cell_type": "code",
   "execution_count": null,
   "metadata": {},
   "outputs": [],
   "source": [
    "def get_range(col, df1, df2):\n",
    "    # TODO : Calculate the range\n",
    "    pass"
   ]
  },
  {
   "cell_type": "markdown",
   "metadata": {},
   "source": [
    "Run these next three cells to check your answer. You should see your two scatter plots side by side."
   ]
  },
  {
   "cell_type": "code",
   "execution_count": null,
   "metadata": {},
   "outputs": [],
   "source": [
    "fig_2000 = get_scatter(df_2000, '2000')\n",
    "fig_2015 = get_scatter(df_2015, '2015')\n",
    "\n",
    "fig_2000.update_layout(xaxis=dict(range=get_range('GDP', df_2000, df_2015)))\n",
    "fig_2000.update_layout(yaxis=dict(range=get_range('CO2', df_2000, df_2015)))\n",
    "fig_2000.update_layout(dragmode=False)\n",
    "\n",
    "\n",
    "fig_2015.update_layout(xaxis=dict(range=get_range('GDP', df_2000, df_2015)))\n",
    "fig_2015.update_layout(yaxis=dict(range=get_range('CO2', df_2000, df_2015)))\n",
    "fig_2015.update_layout(dragmode=False);\n"
   ]
  },
  {
   "cell_type": "code",
   "execution_count": null,
   "metadata": {},
   "outputs": [],
   "source": [
    "config=dict(\n",
    "                scrollZoom=False,\n",
    "                showTips=False,\n",
    "                showAxisDragHandles=False,\n",
    "                doubleClick=False,\n",
    "                displayModeBar=False\n",
    "            )\n",
    "\n",
    "app.layout = html.Div(children=[\n",
    "        html.Div(className='row', children=[dcc.Graph(id='fig-2000', figure=fig_2000, className='six columns', config=config), dcc.Graph(id='fig-2015', figure=fig_2015, className='six columns', config=config)]),\n",
    "        html.Div(style = {'width': '100%', 'display': 'flex', 'alignItems': 'center', 'justifyContent': 'center', 'flexDirection' : 'column'}, children=[\n",
    "            html.H4('Hover over markers for more information', id='country'),\n",
    "            html.Table(children=[\n",
    "                html.Thead(html.Tr(children=[html.Th(), html.Th('GDP per capita ($ USD)'), html.Th('CO2 emissions per capita (metric tonnes)')])),\n",
    "                html.Tbody(children=[\n",
    "                    html.Tr(children=[html.Th('2000'), html.Td(id='2000-gdp'), html.Td(id='2000-co2')]),\n",
    "                    html.Tr(children=[html.Th('2015'), html.Td(id='2015-gdp'), html.Td(id='2015-co2')])\n",
    "                ])\n",
    "            ])\n",
    "        ])\n",
    "    ])"
   ]
  },
  {
   "cell_type": "code",
   "execution_count": null,
   "metadata": {},
   "outputs": [],
   "source": [
    "# Use this cell to check your answer\n",
    "app.run_server(port=8051)"
   ]
  },
  {
   "cell_type": "markdown",
   "metadata": {},
   "source": [
    "# Question 3\n",
    "\n",
    "Now that you've seen both charts side-by-side, you've realized it might be interesting to model them with an animation. However, you'd like to be able to compare the data for countries more easily across the scatter plots.\n",
    "\n",
    "To do so, you will implement a callback function which is triggered whenever a point is hovered in one of the two scatter plots. The signature for this function is already started below. \n",
    "\n",
    "Complete the function so that whenever a point is hovered, the appropriate information is displayed in the table below the scatter plots. \n",
    "\n",
    "The title of the table should be the name of the country of the hovered point. Further, the table should contain the GDP and CO2 information for the years 2000 and 2015."
   ]
  },
  {
   "cell_type": "code",
   "execution_count": null,
   "metadata": {},
   "outputs": [],
   "source": [
    "from dash.dependencies import Input, Output, State"
   ]
  },
  {
   "cell_type": "code",
   "execution_count": null,
   "metadata": {},
   "outputs": [],
   "source": [
    "@app.callback(\n",
    "    [Output('country', 'children'), Output('2000-gdp', 'children'), Output('2000-co2', 'children'), Output('2015-gdp', 'children'), Output('2015-co2', 'children')],\n",
    "    [Input('fig-2000', 'hoverData'), Input('fig-2015', 'hoverData')],\n",
    "    [State('country', 'children'), State('2000-gdp', 'children'), State('2000-co2', 'children'), State('2015-gdp', 'children'), State('2015-co2', 'children')])\n",
    "def display_selected_data(hoverData2000, hoverData2015, prevCountry, prevgdp0, prevco20, prevgdp5, prevco25):\n",
    "    # TODO : Handle the display when a point is hovered\n",
    "    return None, None, None, None, None"
   ]
  },
  {
   "cell_type": "markdown",
   "metadata": {},
   "source": [
    "Run these next three cells to check your answer. You should see the table get filled when you hover a point in either scatter plot."
   ]
  },
  {
   "cell_type": "code",
   "execution_count": null,
   "metadata": {},
   "outputs": [],
   "source": [
    "# Use this cell to check your answer\n",
    "app.run_server(port=8052)"
   ]
  },
  {
   "cell_type": "markdown",
   "metadata": {},
   "source": [
    "# Next steps\n",
    "\n",
    "After this initial exploration step, you've decided you would like to implement this data visualization as a bubble chart with an animation to transition between the two years. You also would like to change the axes display to be log-scaled. You will reuse some of this code and complete the rest of the code provided with this TP to make these changes."
   ]
  }
 ],
 "metadata": {
  "kernelspec": {
   "display_name": "tp4",
   "language": "python",
   "name": "tp4"
  },
  "language_info": {
   "codemirror_mode": {
    "name": "ipython",
    "version": 3
   },
   "file_extension": ".py",
   "mimetype": "text/x-python",
   "name": "python",
   "nbconvert_exporter": "python",
   "pygments_lexer": "ipython3",
   "version": "3.8.3"
  }
 },
 "nbformat": 4,
 "nbformat_minor": 4
}
